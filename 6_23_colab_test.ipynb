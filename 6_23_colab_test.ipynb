{
  "nbformat": 4,
  "nbformat_minor": 0,
  "metadata": {
    "colab": {
      "provenance": [],
      "gpuType": "T4",
      "authorship_tag": "ABX9TyMDtGn/NDcsy7Qfx/sNA93a",
      "include_colab_link": true
    },
    "kernelspec": {
      "name": "python3",
      "display_name": "Python 3"
    },
    "language_info": {
      "name": "python"
    },
    "accelerator": "GPU"
  },
  "cells": [
    {
      "cell_type": "markdown",
      "metadata": {
        "id": "view-in-github",
        "colab_type": "text"
      },
      "source": [
        "<a href=\"https://colab.research.google.com/github/yoonsung0186/0623test/blob/main/6_23_colab_test.ipynb\" target=\"_parent\"><img src=\"https://colab.research.google.com/assets/colab-badge.svg\" alt=\"Open In Colab\"/></a>"
      ]
    },
    {
      "cell_type": "markdown",
      "source": [
        "colab test"
      ],
      "metadata": {
        "id": "gcA2dAYrd73o"
      }
    },
    {
      "cell_type": "code",
      "source": [
        "print(\"Hello, World!\")"
      ],
      "metadata": {
        "id": "PN4fv_yLe46z"
      },
      "execution_count": null,
      "outputs": []
    },
    {
      "cell_type": "markdown",
      "source": [
        "Hello, World!"
      ],
      "metadata": {
        "id": "DmVy22K8hiTw"
      }
    },
    {
      "cell_type": "code",
      "source": [],
      "metadata": {
        "id": "FqlVfi85eAvV"
      },
      "execution_count": null,
      "outputs": []
    }
  ]
}